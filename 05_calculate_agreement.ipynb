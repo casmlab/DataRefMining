{
 "cells": [
  {
   "cell_type": "markdown",
   "id": "66113229-332e-4ee3-8531-2264db5b0ee3",
   "metadata": {},
   "source": [
    "# Calculate agreement\n",
    "OG Author: Sara Lafia\n",
    "\n",
    "Uses Krippendorff's Alpha implemented with [simpledorff](https://www.lighttag.io/blog/krippendorffs-alpha/) library to assess reliability of annotations"
   ]
  },
  {
   "cell_type": "code",
   "execution_count": 1,
   "id": "d177586b",
   "metadata": {},
   "outputs": [
    {
     "name": "stdout",
     "output_type": "stream",
     "text": [
      "Defaulting to user installation because normal site-packages is not writeable\n",
      "Collecting simpledorff\n",
      "  Downloading simpledorff-0.0.2-py3-none-any.whl (5.6 kB)\n",
      "Installing collected packages: simpledorff\n",
      "Successfully installed simpledorff-0.0.2\n"
     ]
    }
   ],
   "source": [
    "# !pip install simpledorff"
   ]
  },
  {
   "cell_type": "code",
   "execution_count": 1,
   "id": "17e989fd-0ff6-4eac-b93f-d4cfda3f622c",
   "metadata": {},
   "outputs": [],
   "source": [
    "import simpledorff\n",
    "import pandas as pd"
   ]
  },
  {
   "cell_type": "code",
   "execution_count": 2,
   "id": "b45b5d23-4c23-4ac9-be76-b1f00fcb6758",
   "metadata": {},
   "outputs": [
    {
     "name": "stdout",
     "output_type": "stream",
     "text": [
      "<class 'pandas.core.frame.DataFrame'>\n",
      "RangeIndex: 220 entries, 0 to 219\n",
      "Data columns (total 20 columns):\n",
      " #   Column               Non-Null Count  Dtype  \n",
      "---  ------               --------------  -----  \n",
      " 0   paper_id             220 non-null    float64\n",
      " 1   sent_id              220 non-null    float64\n",
      " 2   dataset_prediction   220 non-null    object \n",
      " 3   sentence_text        220 non-null    object \n",
      " 4   subject              220 non-null    object \n",
      " 5   relation             220 non-null    object \n",
      " 6   object               220 non-null    object \n",
      " 7   subject_category     220 non-null    object \n",
      " 8   relation_categories  220 non-null    object \n",
      " 9   object_category      220 non-null    object \n",
      " 10  AEO_category         220 non-null    object \n",
      " 11  SO_Category          220 non-null    float64\n",
      " 12  verb_lemmas          220 non-null    object \n",
      " 13  Category             220 non-null    object \n",
      " 14  Proximity            220 non-null    object \n",
      " 15  Function             220 non-null    object \n",
      " 16  Notes                6 non-null      object \n",
      " 17  Proximity.1          220 non-null    object \n",
      " 18  Function.1           220 non-null    object \n",
      " 19  Bad triple           18 non-null     object \n",
      "dtypes: float64(3), object(17)\n",
      "memory usage: 34.5+ KB\n"
     ]
    }
   ],
   "source": [
    "df_sara = pd.read_excel('ICPSR_bib_data_citation_rhetoric_v03_top96_samples.xlsx', sheet_name=0)\n",
    "df_leo = pd.read_excel('ICPSR_bib_data_citation_rhetoric_v03_top96_samples.xlsx', sheet_name=1)\n",
    "df_leo.info()"
   ]
  },
  {
   "cell_type": "code",
   "execution_count": 3,
   "id": "46726264",
   "metadata": {},
   "outputs": [
    {
     "name": "stdout",
     "output_type": "stream",
     "text": [
      "<class 'pandas.core.frame.DataFrame'>\n",
      "RangeIndex: 220 entries, 0 to 219\n",
      "Data columns (total 18 columns):\n",
      " #   Column               Non-Null Count  Dtype  \n",
      "---  ------               --------------  -----  \n",
      " 0   paper_id             220 non-null    float64\n",
      " 1   sent_id              220 non-null    float64\n",
      " 2   dataset_prediction   220 non-null    object \n",
      " 3   sentence_text        220 non-null    object \n",
      " 4   subject              220 non-null    object \n",
      " 5   relation             220 non-null    object \n",
      " 6   object               220 non-null    object \n",
      " 7   subject_category     220 non-null    object \n",
      " 8   relation_categories  220 non-null    object \n",
      " 9   object_category      220 non-null    object \n",
      " 10  AEO_category         220 non-null    object \n",
      " 11  SO_Category          220 non-null    float64\n",
      " 12  verb_lemmas          220 non-null    object \n",
      " 13  Category             220 non-null    object \n",
      " 14  is_rel_label         0 non-null      float64\n",
      " 15  Proximity            220 non-null    object \n",
      " 16  Function             220 non-null    object \n",
      " 17  Bad triple           18 non-null     object \n",
      "dtypes: float64(4), object(14)\n",
      "memory usage: 31.1+ KB\n"
     ]
    }
   ],
   "source": [
    "df_sara.info()"
   ]
  },
  {
   "cell_type": "markdown",
   "id": "fa21392c",
   "metadata": {},
   "source": [
    "#### Bad triple rate\n",
    "Sara: 51/220\n",
    "Leo: 18/220"
   ]
  },
  {
   "cell_type": "markdown",
   "id": "661f6000",
   "metadata": {},
   "source": [
    "### ICR"
   ]
  },
  {
   "cell_type": "code",
   "execution_count": 4,
   "id": "2ec4b148",
   "metadata": {},
   "outputs": [],
   "source": [
    "# exclude bad triple rows (union)\n",
    "document_id = []\n",
    "annotator_id = []\n",
    "annotation_Proximity = []\n",
    "annotation_Function = []\n",
    "\n",
    "for i in range(len(df_sara)):\n",
    "    if df_sara[\"Bad triple\"][i]==\"x\" or df_leo[\"Bad triple\"][i]==\"x\":\n",
    "        continue\n",
    "    \n",
    "    document_id.append(i)\n",
    "    annotator_id.append(\"Sara\")\n",
    "    annotation_Proximity.append(df_sara[\"Proximity\"][i])\n",
    "    annotation_Function.append(df_sara[\"Function\"][i])\n",
    "    \n",
    "    document_id.append(i)\n",
    "    annotator_id.append(\"Leo\")\n",
    "    annotation_Proximity.append(df_leo[\"Proximity.1\"][i])\n",
    "    annotation_Function.append(df_leo[\"Function.1\"][i])\n",
    "\n",
    "annotation_df = pd.DataFrame({\n",
    "    \"document_id\":document_id,\n",
    "    \"annotator_id\":annotator_id,\n",
    "    \"Proximity\":annotation_Proximity,\n",
    "    \"Function\":annotation_Function\n",
    "})"
   ]
  },
  {
   "cell_type": "code",
   "execution_count": 5,
   "id": "0cf6bfbc",
   "metadata": {},
   "outputs": [
    {
     "data": {
      "text/html": [
       "<div>\n",
       "<style scoped>\n",
       "    .dataframe tbody tr th:only-of-type {\n",
       "        vertical-align: middle;\n",
       "    }\n",
       "\n",
       "    .dataframe tbody tr th {\n",
       "        vertical-align: top;\n",
       "    }\n",
       "\n",
       "    .dataframe thead th {\n",
       "        text-align: right;\n",
       "    }\n",
       "</style>\n",
       "<table border=\"1\" class=\"dataframe\">\n",
       "  <thead>\n",
       "    <tr style=\"text-align: right;\">\n",
       "      <th></th>\n",
       "      <th>document_id</th>\n",
       "      <th>annotator_id</th>\n",
       "      <th>Proximity</th>\n",
       "      <th>Function</th>\n",
       "    </tr>\n",
       "  </thead>\n",
       "  <tbody>\n",
       "    <tr>\n",
       "      <th>0</th>\n",
       "      <td>3</td>\n",
       "      <td>Sara</td>\n",
       "      <td>Indirect</td>\n",
       "      <td>Context</td>\n",
       "    </tr>\n",
       "    <tr>\n",
       "      <th>1</th>\n",
       "      <td>3</td>\n",
       "      <td>Leo</td>\n",
       "      <td>Indirect</td>\n",
       "      <td>Context</td>\n",
       "    </tr>\n",
       "    <tr>\n",
       "      <th>2</th>\n",
       "      <td>4</td>\n",
       "      <td>Sara</td>\n",
       "      <td>Direct</td>\n",
       "      <td>Interaction</td>\n",
       "    </tr>\n",
       "    <tr>\n",
       "      <th>3</th>\n",
       "      <td>4</td>\n",
       "      <td>Leo</td>\n",
       "      <td>Direct</td>\n",
       "      <td>Interaction</td>\n",
       "    </tr>\n",
       "    <tr>\n",
       "      <th>4</th>\n",
       "      <td>5</td>\n",
       "      <td>Sara</td>\n",
       "      <td>Indirect</td>\n",
       "      <td>Context</td>\n",
       "    </tr>\n",
       "    <tr>\n",
       "      <th>...</th>\n",
       "      <td>...</td>\n",
       "      <td>...</td>\n",
       "      <td>...</td>\n",
       "      <td>...</td>\n",
       "    </tr>\n",
       "    <tr>\n",
       "      <th>399</th>\n",
       "      <td>217</td>\n",
       "      <td>Leo</td>\n",
       "      <td>Indirect</td>\n",
       "      <td>Context</td>\n",
       "    </tr>\n",
       "    <tr>\n",
       "      <th>400</th>\n",
       "      <td>218</td>\n",
       "      <td>Sara</td>\n",
       "      <td>Indirect</td>\n",
       "      <td>Interaction</td>\n",
       "    </tr>\n",
       "    <tr>\n",
       "      <th>401</th>\n",
       "      <td>218</td>\n",
       "      <td>Leo</td>\n",
       "      <td>Indirect</td>\n",
       "      <td>Context</td>\n",
       "    </tr>\n",
       "    <tr>\n",
       "      <th>402</th>\n",
       "      <td>219</td>\n",
       "      <td>Sara</td>\n",
       "      <td>Indirect</td>\n",
       "      <td>Interaction</td>\n",
       "    </tr>\n",
       "    <tr>\n",
       "      <th>403</th>\n",
       "      <td>219</td>\n",
       "      <td>Leo</td>\n",
       "      <td>Indirect</td>\n",
       "      <td>Context</td>\n",
       "    </tr>\n",
       "  </tbody>\n",
       "</table>\n",
       "<p>404 rows × 4 columns</p>\n",
       "</div>"
      ],
      "text/plain": [
       "     document_id annotator_id Proximity     Function\n",
       "0              3         Sara  Indirect      Context\n",
       "1              3          Leo  Indirect      Context\n",
       "2              4         Sara    Direct  Interaction\n",
       "3              4          Leo    Direct  Interaction\n",
       "4              5         Sara  Indirect      Context\n",
       "..           ...          ...       ...          ...\n",
       "399          217          Leo  Indirect      Context\n",
       "400          218         Sara  Indirect  Interaction\n",
       "401          218          Leo  Indirect      Context\n",
       "402          219         Sara  Indirect  Interaction\n",
       "403          219          Leo  Indirect      Context\n",
       "\n",
       "[404 rows x 4 columns]"
      ]
     },
     "execution_count": 5,
     "metadata": {},
     "output_type": "execute_result"
    }
   ],
   "source": [
    "annotation_df"
   ]
  },
  {
   "cell_type": "markdown",
   "id": "ec58e3c0-5e27-431c-8567-fe7ae4501096",
   "metadata": {},
   "source": [
    "Krippendorff for `Proximity`"
   ]
  },
  {
   "cell_type": "code",
   "execution_count": 6,
   "id": "c3a29bed-4a44-4fef-9bcf-76048f453503",
   "metadata": {},
   "outputs": [
    {
     "data": {
      "text/plain": [
       "0.92"
      ]
     },
     "execution_count": 6,
     "metadata": {},
     "output_type": "execute_result"
    }
   ],
   "source": [
    "proximity_agreement = simpledorff.calculate_krippendorffs_alpha_for_df(annotation_df,\n",
    "                                                                       experiment_col='document_id',\n",
    "                                                                       annotator_col='annotator_id',\n",
    "                                                                       class_col='Proximity')\n",
    "round(proximity_agreement,2)"
   ]
  },
  {
   "cell_type": "markdown",
   "id": "132b8227-f4ef-4c7d-8347-7983635eb319",
   "metadata": {},
   "source": [
    "Krippendorff for `Function`"
   ]
  },
  {
   "cell_type": "code",
   "execution_count": 7,
   "id": "aabc2e2c-e04c-453e-bce8-27b579c644ba",
   "metadata": {},
   "outputs": [
    {
     "data": {
      "text/plain": [
       "0.71"
      ]
     },
     "execution_count": 7,
     "metadata": {},
     "output_type": "execute_result"
    }
   ],
   "source": [
    "function_agreement = simpledorff.calculate_krippendorffs_alpha_for_df(annotation_df,\n",
    "                                                 experiment_col='document_id',\n",
    "                                                 annotator_col='annotator_id',\n",
    "                                                 class_col='Function')\n",
    "round(function_agreement,2)"
   ]
  },
  {
   "cell_type": "code",
   "execution_count": 8,
   "id": "01729471-066b-4cc4-a5a4-8422419e3e4a",
   "metadata": {},
   "outputs": [],
   "source": [
    "# export the agreeing rows\n",
    "agree_index = list(set(annotation_df.document_id))"
   ]
  },
  {
   "cell_type": "code",
   "execution_count": 11,
   "id": "7bb75e4d",
   "metadata": {},
   "outputs": [],
   "source": [
    "df_sara[df_sara.index.isin(agree_index)].to_csv(\"agree_samples.csv\",index=False)"
   ]
  }
 ],
 "metadata": {
  "kernelspec": {
   "display_name": "Python 3 (ipykernel)",
   "language": "python",
   "name": "python3"
  },
  "language_info": {
   "codemirror_mode": {
    "name": "ipython",
    "version": 3
   },
   "file_extension": ".py",
   "mimetype": "text/x-python",
   "name": "python",
   "nbconvert_exporter": "python",
   "pygments_lexer": "ipython3",
   "version": "3.9.7"
  }
 },
 "nbformat": 4,
 "nbformat_minor": 5
}
