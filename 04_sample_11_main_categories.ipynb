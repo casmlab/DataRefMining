{
 "cells": [
  {
   "cell_type": "code",
   "execution_count": 2,
   "id": "fd284d43",
   "metadata": {},
   "outputs": [],
   "source": [
    "import pandas as pd\n",
    "import numpy as np"
   ]
  },
  {
   "cell_type": "code",
   "execution_count": 5,
   "id": "1954c8c5",
   "metadata": {},
   "outputs": [],
   "source": [
    "cat_list = [\n",
    "    \"5a\",\n",
    "    \"4a\",\n",
    "    \"5d\",\n",
    "    \"2a\",\n",
    "    \"4d\",\n",
    "    \"1a\",\n",
    "    \"3a\",\n",
    "    \"3d\",\n",
    "    \"5b\",\n",
    "    \"4b\",\n",
    "    \"3b\"\n",
    "]"
   ]
  },
  {
   "cell_type": "code",
   "execution_count": 7,
   "id": "905bbd33",
   "metadata": {},
   "outputs": [],
   "source": [
    "df = pd.read_csv(\"ICPSR_bib_data_citation_rhetoric_v03.csv\")\n",
    "df = df[df['Category'].isin(cat_list)].reset_index(drop=True)"
   ]
  },
  {
   "cell_type": "code",
   "execution_count": 8,
   "id": "8b3cc052",
   "metadata": {},
   "outputs": [
    {
     "name": "stdout",
     "output_type": "stream",
     "text": [
      "<class 'pandas.core.frame.DataFrame'>\n",
      "RangeIndex: 5824 entries, 0 to 5823\n",
      "Data columns (total 13 columns):\n",
      " #   Column               Non-Null Count  Dtype \n",
      "---  ------               --------------  ----- \n",
      " 0   paper_id             5824 non-null   int64 \n",
      " 1   sentence_text        5824 non-null   object\n",
      " 2   dataset_prediction   5824 non-null   object\n",
      " 3   subject              5824 non-null   object\n",
      " 4   relation             5824 non-null   object\n",
      " 5   object               5824 non-null   object\n",
      " 6   subject_category     5824 non-null   object\n",
      " 7   relation_categories  5824 non-null   object\n",
      " 8   object_category      5824 non-null   object\n",
      " 9   AEO_category         5824 non-null   object\n",
      " 10  SO_Category          5824 non-null   int64 \n",
      " 11  verb_lemmas          5824 non-null   object\n",
      " 12  Category             5824 non-null   object\n",
      "dtypes: int64(2), object(11)\n",
      "memory usage: 591.6+ KB\n"
     ]
    }
   ],
   "source": [
    "df.info()"
   ]
  },
  {
   "cell_type": "code",
   "execution_count": 11,
   "id": "3374a802",
   "metadata": {},
   "outputs": [],
   "source": [
    "df.groupby('Category').apply(lambda s: s.sample(20)).to_csv(\"ICPSR_bib_data_citation_rhetoric_v03_top96_samples.csv\",index=False)"
   ]
  }
 ],
 "metadata": {
  "kernelspec": {
   "display_name": "Python 3 (ipykernel)",
   "language": "python",
   "name": "python3"
  },
  "language_info": {
   "codemirror_mode": {
    "name": "ipython",
    "version": 3
   },
   "file_extension": ".py",
   "mimetype": "text/x-python",
   "name": "python",
   "nbconvert_exporter": "python",
   "pygments_lexer": "ipython3",
   "version": "3.9.7"
  }
 },
 "nbformat": 4,
 "nbformat_minor": 5
}
